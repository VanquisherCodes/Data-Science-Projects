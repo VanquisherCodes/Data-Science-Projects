{
 "cells": [
  {
   "cell_type": "code",
   "execution_count": 1,
   "id": "76cc8e2f",
   "metadata": {},
   "outputs": [],
   "source": [
    "import pandas as pd\n"
   ]
  },
  {
   "cell_type": "code",
   "execution_count": 2,
   "id": "686d0641",
   "metadata": {},
   "outputs": [],
   "source": [
    "df=pd.read_csv(r\"C:\\Users\\ItsMeVanquisher\\Downloads\\churn_prediction.csv\")"
   ]
  },
  {
   "cell_type": "code",
   "execution_count": 3,
   "id": "13d4d6d7",
   "metadata": {},
   "outputs": [
    {
     "data": {
      "text/html": [
       "<div>\n",
       "<style scoped>\n",
       "    .dataframe tbody tr th:only-of-type {\n",
       "        vertical-align: middle;\n",
       "    }\n",
       "\n",
       "    .dataframe tbody tr th {\n",
       "        vertical-align: top;\n",
       "    }\n",
       "\n",
       "    .dataframe thead th {\n",
       "        text-align: right;\n",
       "    }\n",
       "</style>\n",
       "<table border=\"1\" class=\"dataframe\">\n",
       "  <thead>\n",
       "    <tr style=\"text-align: right;\">\n",
       "      <th></th>\n",
       "      <th>customer_id</th>\n",
       "      <th>vintage</th>\n",
       "      <th>age</th>\n",
       "      <th>gender</th>\n",
       "      <th>dependents</th>\n",
       "      <th>occupation</th>\n",
       "      <th>city</th>\n",
       "      <th>customer_nw_category</th>\n",
       "      <th>branch_code</th>\n",
       "      <th>days_since_last_transaction</th>\n",
       "      <th>...</th>\n",
       "      <th>previous_month_end_balance</th>\n",
       "      <th>average_monthly_balance_prevQ</th>\n",
       "      <th>average_monthly_balance_prevQ2</th>\n",
       "      <th>current_month_credit</th>\n",
       "      <th>previous_month_credit</th>\n",
       "      <th>current_month_debit</th>\n",
       "      <th>previous_month_debit</th>\n",
       "      <th>current_month_balance</th>\n",
       "      <th>previous_month_balance</th>\n",
       "      <th>churn</th>\n",
       "    </tr>\n",
       "  </thead>\n",
       "  <tbody>\n",
       "    <tr>\n",
       "      <th>0</th>\n",
       "      <td>1</td>\n",
       "      <td>3135</td>\n",
       "      <td>66</td>\n",
       "      <td>Male</td>\n",
       "      <td>0.0</td>\n",
       "      <td>self_employed</td>\n",
       "      <td>187.0</td>\n",
       "      <td>2</td>\n",
       "      <td>755</td>\n",
       "      <td>224.0</td>\n",
       "      <td>...</td>\n",
       "      <td>1458.71</td>\n",
       "      <td>1458.71</td>\n",
       "      <td>1449.07</td>\n",
       "      <td>0.20</td>\n",
       "      <td>0.20</td>\n",
       "      <td>0.20</td>\n",
       "      <td>0.20</td>\n",
       "      <td>1458.71</td>\n",
       "      <td>1458.71</td>\n",
       "      <td>0</td>\n",
       "    </tr>\n",
       "    <tr>\n",
       "      <th>1</th>\n",
       "      <td>2</td>\n",
       "      <td>310</td>\n",
       "      <td>35</td>\n",
       "      <td>Male</td>\n",
       "      <td>0.0</td>\n",
       "      <td>self_employed</td>\n",
       "      <td>NaN</td>\n",
       "      <td>2</td>\n",
       "      <td>3214</td>\n",
       "      <td>60.0</td>\n",
       "      <td>...</td>\n",
       "      <td>8704.66</td>\n",
       "      <td>7799.26</td>\n",
       "      <td>12419.41</td>\n",
       "      <td>0.56</td>\n",
       "      <td>0.56</td>\n",
       "      <td>5486.27</td>\n",
       "      <td>100.56</td>\n",
       "      <td>6496.78</td>\n",
       "      <td>8787.61</td>\n",
       "      <td>0</td>\n",
       "    </tr>\n",
       "    <tr>\n",
       "      <th>2</th>\n",
       "      <td>4</td>\n",
       "      <td>2356</td>\n",
       "      <td>31</td>\n",
       "      <td>Male</td>\n",
       "      <td>0.0</td>\n",
       "      <td>salaried</td>\n",
       "      <td>146.0</td>\n",
       "      <td>2</td>\n",
       "      <td>41</td>\n",
       "      <td>NaN</td>\n",
       "      <td>...</td>\n",
       "      <td>5815.29</td>\n",
       "      <td>4910.17</td>\n",
       "      <td>2815.94</td>\n",
       "      <td>0.61</td>\n",
       "      <td>0.61</td>\n",
       "      <td>6046.73</td>\n",
       "      <td>259.23</td>\n",
       "      <td>5006.28</td>\n",
       "      <td>5070.14</td>\n",
       "      <td>0</td>\n",
       "    </tr>\n",
       "    <tr>\n",
       "      <th>3</th>\n",
       "      <td>5</td>\n",
       "      <td>478</td>\n",
       "      <td>90</td>\n",
       "      <td>NaN</td>\n",
       "      <td>NaN</td>\n",
       "      <td>self_employed</td>\n",
       "      <td>1020.0</td>\n",
       "      <td>2</td>\n",
       "      <td>582</td>\n",
       "      <td>147.0</td>\n",
       "      <td>...</td>\n",
       "      <td>2291.91</td>\n",
       "      <td>2084.54</td>\n",
       "      <td>1006.54</td>\n",
       "      <td>0.47</td>\n",
       "      <td>0.47</td>\n",
       "      <td>0.47</td>\n",
       "      <td>2143.33</td>\n",
       "      <td>2291.91</td>\n",
       "      <td>1669.79</td>\n",
       "      <td>1</td>\n",
       "    </tr>\n",
       "    <tr>\n",
       "      <th>4</th>\n",
       "      <td>6</td>\n",
       "      <td>2531</td>\n",
       "      <td>42</td>\n",
       "      <td>Male</td>\n",
       "      <td>2.0</td>\n",
       "      <td>self_employed</td>\n",
       "      <td>1494.0</td>\n",
       "      <td>3</td>\n",
       "      <td>388</td>\n",
       "      <td>58.0</td>\n",
       "      <td>...</td>\n",
       "      <td>1401.72</td>\n",
       "      <td>1643.31</td>\n",
       "      <td>1871.12</td>\n",
       "      <td>0.33</td>\n",
       "      <td>714.61</td>\n",
       "      <td>588.62</td>\n",
       "      <td>1538.06</td>\n",
       "      <td>1157.15</td>\n",
       "      <td>1677.16</td>\n",
       "      <td>1</td>\n",
       "    </tr>\n",
       "  </tbody>\n",
       "</table>\n",
       "<p>5 rows × 21 columns</p>\n",
       "</div>"
      ],
      "text/plain": [
       "   customer_id  vintage  age gender  dependents     occupation    city  \\\n",
       "0            1     3135   66   Male         0.0  self_employed   187.0   \n",
       "1            2      310   35   Male         0.0  self_employed     NaN   \n",
       "2            4     2356   31   Male         0.0       salaried   146.0   \n",
       "3            5      478   90    NaN         NaN  self_employed  1020.0   \n",
       "4            6     2531   42   Male         2.0  self_employed  1494.0   \n",
       "\n",
       "   customer_nw_category  branch_code  days_since_last_transaction  ...  \\\n",
       "0                     2          755                        224.0  ...   \n",
       "1                     2         3214                         60.0  ...   \n",
       "2                     2           41                          NaN  ...   \n",
       "3                     2          582                        147.0  ...   \n",
       "4                     3          388                         58.0  ...   \n",
       "\n",
       "   previous_month_end_balance  average_monthly_balance_prevQ  \\\n",
       "0                     1458.71                        1458.71   \n",
       "1                     8704.66                        7799.26   \n",
       "2                     5815.29                        4910.17   \n",
       "3                     2291.91                        2084.54   \n",
       "4                     1401.72                        1643.31   \n",
       "\n",
       "   average_monthly_balance_prevQ2  current_month_credit  \\\n",
       "0                         1449.07                  0.20   \n",
       "1                        12419.41                  0.56   \n",
       "2                         2815.94                  0.61   \n",
       "3                         1006.54                  0.47   \n",
       "4                         1871.12                  0.33   \n",
       "\n",
       "   previous_month_credit  current_month_debit  previous_month_debit  \\\n",
       "0                   0.20                 0.20                  0.20   \n",
       "1                   0.56              5486.27                100.56   \n",
       "2                   0.61              6046.73                259.23   \n",
       "3                   0.47                 0.47               2143.33   \n",
       "4                 714.61               588.62               1538.06   \n",
       "\n",
       "   current_month_balance  previous_month_balance  churn  \n",
       "0                1458.71                 1458.71      0  \n",
       "1                6496.78                 8787.61      0  \n",
       "2                5006.28                 5070.14      0  \n",
       "3                2291.91                 1669.79      1  \n",
       "4                1157.15                 1677.16      1  \n",
       "\n",
       "[5 rows x 21 columns]"
      ]
     },
     "execution_count": 3,
     "metadata": {},
     "output_type": "execute_result"
    }
   ],
   "source": [
    "df.head()"
   ]
  },
  {
   "cell_type": "code",
   "execution_count": 4,
   "id": "76ac4c80",
   "metadata": {},
   "outputs": [
    {
     "data": {
      "text/plain": [
       "0        66\n",
       "1        35\n",
       "2        31\n",
       "3        90\n",
       "4        42\n",
       "         ..\n",
       "28377    10\n",
       "28378    34\n",
       "28379    47\n",
       "28380    50\n",
       "28381    18\n",
       "Name: age, Length: 28382, dtype: int64"
      ]
     },
     "execution_count": 4,
     "metadata": {},
     "output_type": "execute_result"
    }
   ],
   "source": [
    "df[\"age\"]"
   ]
  },
  {
   "cell_type": "code",
   "execution_count": 5,
   "id": "485576ae",
   "metadata": {},
   "outputs": [
    {
     "data": {
      "text/plain": [
       "0        3135\n",
       "1         310\n",
       "2        2356\n",
       "3         478\n",
       "4        2531\n",
       "         ... \n",
       "28377    1845\n",
       "28378    4919\n",
       "28379     297\n",
       "28380    2585\n",
       "28381    2349\n",
       "Name: vintage, Length: 28382, dtype: int64"
      ]
     },
     "execution_count": 5,
     "metadata": {},
     "output_type": "execute_result"
    }
   ],
   "source": [
    "df[\"vintage\"]"
   ]
  },
  {
   "cell_type": "code",
   "execution_count": 6,
   "id": "f285a83e",
   "metadata": {},
   "outputs": [
    {
     "data": {
      "text/plain": [
       "Male      16548\n",
       "Female    11309\n",
       "Name: gender, dtype: int64"
      ]
     },
     "execution_count": 6,
     "metadata": {},
     "output_type": "execute_result"
    }
   ],
   "source": [
    "df[\"gender\"].value_counts()"
   ]
  },
  {
   "cell_type": "code",
   "execution_count": 7,
   "id": "46cc3ad9",
   "metadata": {},
   "outputs": [
    {
     "data": {
      "text/plain": [
       "(28382, 21)"
      ]
     },
     "execution_count": 7,
     "metadata": {},
     "output_type": "execute_result"
    }
   ],
   "source": [
    "df.shape"
   ]
  },
  {
   "cell_type": "code",
   "execution_count": 8,
   "id": "e203d838",
   "metadata": {},
   "outputs": [],
   "source": [
    "dataframe=pd.DataFrame({'A':['A1','A2','A3'],'B':['B1','B2','B3']},index=[1,2,3])"
   ]
  },
  {
   "cell_type": "code",
   "execution_count": 9,
   "id": "a5ceb279",
   "metadata": {},
   "outputs": [
    {
     "data": {
      "text/html": [
       "<div>\n",
       "<style scoped>\n",
       "    .dataframe tbody tr th:only-of-type {\n",
       "        vertical-align: middle;\n",
       "    }\n",
       "\n",
       "    .dataframe tbody tr th {\n",
       "        vertical-align: top;\n",
       "    }\n",
       "\n",
       "    .dataframe thead th {\n",
       "        text-align: right;\n",
       "    }\n",
       "</style>\n",
       "<table border=\"1\" class=\"dataframe\">\n",
       "  <thead>\n",
       "    <tr style=\"text-align: right;\">\n",
       "      <th></th>\n",
       "      <th>A</th>\n",
       "      <th>B</th>\n",
       "    </tr>\n",
       "  </thead>\n",
       "  <tbody>\n",
       "    <tr>\n",
       "      <th>1</th>\n",
       "      <td>A1</td>\n",
       "      <td>B1</td>\n",
       "    </tr>\n",
       "    <tr>\n",
       "      <th>2</th>\n",
       "      <td>A2</td>\n",
       "      <td>B2</td>\n",
       "    </tr>\n",
       "    <tr>\n",
       "      <th>3</th>\n",
       "      <td>A3</td>\n",
       "      <td>B3</td>\n",
       "    </tr>\n",
       "  </tbody>\n",
       "</table>\n",
       "</div>"
      ],
      "text/plain": [
       "    A   B\n",
       "1  A1  B1\n",
       "2  A2  B2\n",
       "3  A3  B3"
      ]
     },
     "execution_count": 9,
     "metadata": {},
     "output_type": "execute_result"
    }
   ],
   "source": [
    "dataframe"
   ]
  },
  {
   "cell_type": "code",
   "execution_count": 10,
   "id": "e6af1733",
   "metadata": {},
   "outputs": [
    {
     "data": {
      "text/plain": [
       "(3, 2)"
      ]
     },
     "execution_count": 10,
     "metadata": {},
     "output_type": "execute_result"
    }
   ],
   "source": [
    "dataframe.shape"
   ]
  },
  {
   "cell_type": "code",
   "execution_count": null,
   "id": "056f652a",
   "metadata": {},
   "outputs": [],
   "source": []
  },
  {
   "cell_type": "code",
   "execution_count": null,
   "id": "62c05674",
   "metadata": {},
   "outputs": [],
   "source": []
  },
  {
   "cell_type": "code",
   "execution_count": 11,
   "id": "a3cc3c96",
   "metadata": {},
   "outputs": [
    {
     "data": {
      "text/plain": [
       "customer_id                          0\n",
       "vintage                              0\n",
       "age                                  0\n",
       "gender                             525\n",
       "dependents                        2463\n",
       "occupation                          80\n",
       "city                               803\n",
       "customer_nw_category                 0\n",
       "branch_code                          0\n",
       "days_since_last_transaction       3223\n",
       "current_balance                      0\n",
       "previous_month_end_balance           0\n",
       "average_monthly_balance_prevQ        0\n",
       "average_monthly_balance_prevQ2       0\n",
       "current_month_credit                 0\n",
       "previous_month_credit                0\n",
       "current_month_debit                  0\n",
       "previous_month_debit                 0\n",
       "current_month_balance                0\n",
       "previous_month_balance               0\n",
       "churn                                0\n",
       "dtype: int64"
      ]
     },
     "execution_count": 11,
     "metadata": {},
     "output_type": "execute_result"
    }
   ],
   "source": [
    "df.isnull().sum()"
   ]
  },
  {
   "cell_type": "code",
   "execution_count": 12,
   "id": "0e7cddc1",
   "metadata": {},
   "outputs": [],
   "source": [
    "df[\"gender\"]=df[\"gender\"].fillna(df[\"gender\"].mode()[0])"
   ]
  },
  {
   "cell_type": "code",
   "execution_count": 13,
   "id": "7bcd6232",
   "metadata": {},
   "outputs": [],
   "source": [
    "df[\"dependents\"]=df[\"dependents\"].fillna(df[\"dependents\"].mode()[0])"
   ]
  },
  {
   "cell_type": "code",
   "execution_count": 14,
   "id": "7d95e9d7",
   "metadata": {},
   "outputs": [],
   "source": [
    "df[\"occupation\"]=df[\"occupation\"].fillna(df[\"occupation\"].mode()[0])"
   ]
  },
  {
   "cell_type": "code",
   "execution_count": 15,
   "id": "06e21db4",
   "metadata": {},
   "outputs": [
    {
     "data": {
      "text/plain": [
       "customer_id                          0\n",
       "vintage                              0\n",
       "age                                  0\n",
       "gender                               0\n",
       "dependents                           0\n",
       "occupation                           0\n",
       "city                               803\n",
       "customer_nw_category                 0\n",
       "branch_code                          0\n",
       "days_since_last_transaction       3223\n",
       "current_balance                      0\n",
       "previous_month_end_balance           0\n",
       "average_monthly_balance_prevQ        0\n",
       "average_monthly_balance_prevQ2       0\n",
       "current_month_credit                 0\n",
       "previous_month_credit                0\n",
       "current_month_debit                  0\n",
       "previous_month_debit                 0\n",
       "current_month_balance                0\n",
       "previous_month_balance               0\n",
       "churn                                0\n",
       "dtype: int64"
      ]
     },
     "execution_count": 15,
     "metadata": {},
     "output_type": "execute_result"
    }
   ],
   "source": [
    "df.isnull().sum()"
   ]
  },
  {
   "cell_type": "code",
   "execution_count": 16,
   "id": "5de4dba4",
   "metadata": {},
   "outputs": [],
   "source": [
    "df[\"city\"]=df[\"city\"].fillna(df[\"city\"].median())"
   ]
  },
  {
   "cell_type": "code",
   "execution_count": 17,
   "id": "3af6473d",
   "metadata": {},
   "outputs": [],
   "source": [
    "df[\"days_since_last_transaction\"]=df[\"days_since_last_transaction\"].fillna(df[\"days_since_last_transaction\"].median())"
   ]
  },
  {
   "cell_type": "code",
   "execution_count": 18,
   "id": "d6e8f31b",
   "metadata": {},
   "outputs": [
    {
     "data": {
      "text/plain": [
       "customer_id                       0\n",
       "vintage                           0\n",
       "age                               0\n",
       "gender                            0\n",
       "dependents                        0\n",
       "occupation                        0\n",
       "city                              0\n",
       "customer_nw_category              0\n",
       "branch_code                       0\n",
       "days_since_last_transaction       0\n",
       "current_balance                   0\n",
       "previous_month_end_balance        0\n",
       "average_monthly_balance_prevQ     0\n",
       "average_monthly_balance_prevQ2    0\n",
       "current_month_credit              0\n",
       "previous_month_credit             0\n",
       "current_month_debit               0\n",
       "previous_month_debit              0\n",
       "current_month_balance             0\n",
       "previous_month_balance            0\n",
       "churn                             0\n",
       "dtype: int64"
      ]
     },
     "execution_count": 18,
     "metadata": {},
     "output_type": "execute_result"
    }
   ],
   "source": [
    "df.isnull().sum()"
   ]
  },
  {
   "cell_type": "code",
   "execution_count": 19,
   "id": "35f02bc2",
   "metadata": {},
   "outputs": [
    {
     "data": {
      "text/html": [
       "<div>\n",
       "<style scoped>\n",
       "    .dataframe tbody tr th:only-of-type {\n",
       "        vertical-align: middle;\n",
       "    }\n",
       "\n",
       "    .dataframe tbody tr th {\n",
       "        vertical-align: top;\n",
       "    }\n",
       "\n",
       "    .dataframe thead th {\n",
       "        text-align: right;\n",
       "    }\n",
       "</style>\n",
       "<table border=\"1\" class=\"dataframe\">\n",
       "  <thead>\n",
       "    <tr style=\"text-align: right;\">\n",
       "      <th>col_0</th>\n",
       "      <th>gender</th>\n",
       "    </tr>\n",
       "    <tr>\n",
       "      <th>gender</th>\n",
       "      <th></th>\n",
       "    </tr>\n",
       "  </thead>\n",
       "  <tbody>\n",
       "    <tr>\n",
       "      <th>Female</th>\n",
       "      <td>11309</td>\n",
       "    </tr>\n",
       "    <tr>\n",
       "      <th>Male</th>\n",
       "      <td>17073</td>\n",
       "    </tr>\n",
       "  </tbody>\n",
       "</table>\n",
       "</div>"
      ],
      "text/plain": [
       "col_0   gender\n",
       "gender        \n",
       "Female   11309\n",
       "Male     17073"
      ]
     },
     "execution_count": 19,
     "metadata": {},
     "output_type": "execute_result"
    }
   ],
   "source": [
    "pd.crosstab(df[\"gender\"],columns='gender')"
   ]
  },
  {
   "cell_type": "code",
   "execution_count": 20,
   "id": "0f3a5b9c",
   "metadata": {},
   "outputs": [],
   "source": [
    "import seaborn as sb"
   ]
  },
  {
   "cell_type": "code",
   "execution_count": 21,
   "id": "34315a36",
   "metadata": {},
   "outputs": [
    {
     "data": {
      "text/plain": [
       "<seaborn.axisgrid.FacetGrid at 0x19880472160>"
      ]
     },
     "execution_count": 21,
     "metadata": {},
     "output_type": "execute_result"
    },
    {
     "data": {
      "image/png": "[encoded data removed]",
      "text/plain": [
       "<Figure size 360x360 with 1 Axes>"
      ]
     },
     "metadata": {
      "needs_background": "light"
     },
     "output_type": "display_data"
    }
   ],
   "source": [
    "sb.displot(df[\"vintage\"],kde=False)"
   ]
  },
  {
   "cell_type": "code",
   "execution_count": 22,
   "id": "5cdd37cf",
   "metadata": {},
   "outputs": [
    {
     "data": {
      "text/html": [
       "<div>\n",
       "<style scoped>\n",
       "    .dataframe tbody tr th:only-of-type {\n",
       "        vertical-align: middle;\n",
       "    }\n",
       "\n",
       "    .dataframe tbody tr th {\n",
       "        vertical-align: top;\n",
       "    }\n",
       "\n",
       "    .dataframe thead th {\n",
       "        text-align: right;\n",
       "    }\n",
       "</style>\n",
       "<table border=\"1\" class=\"dataframe\">\n",
       "  <thead>\n",
       "    <tr style=\"text-align: right;\">\n",
       "      <th>churn</th>\n",
       "      <th>0</th>\n",
       "      <th>1</th>\n",
       "    </tr>\n",
       "    <tr>\n",
       "      <th>gender</th>\n",
       "      <th></th>\n",
       "      <th></th>\n",
       "    </tr>\n",
       "  </thead>\n",
       "  <tbody>\n",
       "    <tr>\n",
       "      <th>Female</th>\n",
       "      <td>9324</td>\n",
       "      <td>1985</td>\n",
       "    </tr>\n",
       "    <tr>\n",
       "      <th>Male</th>\n",
       "      <td>13798</td>\n",
       "      <td>3275</td>\n",
       "    </tr>\n",
       "  </tbody>\n",
       "</table>\n",
       "</div>"
      ],
      "text/plain": [
       "churn       0     1\n",
       "gender             \n",
       "Female   9324  1985\n",
       "Male    13798  3275"
      ]
     },
     "execution_count": 22,
     "metadata": {},
     "output_type": "execute_result"
    }
   ],
   "source": [
    "pd.crosstab(df[\"gender\"],df[\"churn\"])"
   ]
  },
  {
   "cell_type": "code",
   "execution_count": 23,
   "id": "c5f9a582",
   "metadata": {},
   "outputs": [
    {
     "data": {
      "text/plain": [
       "<seaborn.axisgrid.FacetGrid at 0x19880458220>"
      ]
     },
     "execution_count": 23,
     "metadata": {},
     "output_type": "execute_result"
    },
    {
     "data": {
      "image/png": "[encoded data removed]",
      "text/plain": [
       "<Figure size 360x360 with 1 Axes>"
      ]
     },
     "metadata": {
      "needs_background": "light"
     },
     "output_type": "display_data"
    }
   ],
   "source": [
    "sb.displot(df[\"vintage\"],kde=False)"
   ]
  },
  {
   "cell_type": "code",
   "execution_count": 24,
   "id": "5a6c5b72",
   "metadata": {},
   "outputs": [
    {
     "data": {
      "text/plain": [
       "<AxesSubplot:xlabel='churn', ylabel='age'>"
      ]
     },
     "execution_count": 24,
     "metadata": {},
     "output_type": "execute_result"
    },
    {
     "data": {
      "image/png": "[encoded data removed]",
      "text/plain": [
       "<Figure size 432x288 with 1 Axes>"
      ]
     },
     "metadata": {
      "needs_background": "light"
     },
     "output_type": "display_data"
    }
   ],
   "source": [
    "sb.barplot(x=\"churn\",y=\"age\",data=df)"
   ]
  },
  {
   "cell_type": "code",
   "execution_count": 25,
   "id": "9687e4de",
   "metadata": {},
   "outputs": [
    {
     "data": {
      "text/plain": [
       "<AxesSubplot:xlabel='current_month_credit'>"
      ]
     },
     "execution_count": 25,
     "metadata": {},
     "output_type": "execute_result"
    },
    {
     "data": {
      "image/png": "[encoded data removed]",
      "text/plain": [
       "<Figure size 432x288 with 1 Axes>"
      ]
     },
     "metadata": {
      "needs_background": "light"
     },
     "output_type": "display_data"
    }
   ],
   "source": [
    "sb.boxplot(x=\"current_month_credit\",data=df)"
   ]
  },
  {
   "cell_type": "code",
   "execution_count": 26,
   "id": "575062dc",
   "metadata": {},
   "outputs": [
    {
     "name": "stderr",
     "output_type": "stream",
     "text": [
      "C:\\Users\\ItsMeVanquisher\\anaconda3\\lib\\site-packages\\pandas\\core\\indexing.py:1637: SettingWithCopyWarning: \n",
      "A value is trying to be set on a copy of a slice from a DataFrame\n",
      "\n",
      "See the caveats in the documentation: https://pandas.pydata.org/pandas-docs/stable/user_guide/indexing.html#returning-a-view-versus-a-copy\n",
      "  self._setitem_single_block(indexer, value, name)\n"
     ]
    }
   ],
   "source": [
    "df[\"current_month_credit\"].loc[df[\"current_month_credit\"]>500000\n",
    "                              ]=df[\"current_month_credit\"].median()"
   ]
  },
  {
   "cell_type": "code",
   "execution_count": 27,
   "id": "407266a0",
   "metadata": {},
   "outputs": [
    {
     "data": {
      "text/plain": [
       "<AxesSubplot:xlabel='average_monthly_balance_prevQ2'>"
      ]
     },
     "execution_count": 27,
     "metadata": {},
     "output_type": "execute_result"
    },
    {
     "data": {
      "image/png": "[encoded data removed]",
      "text/plain": [
       "<Figure size 432x288 with 1 Axes>"
      ]
     },
     "metadata": {
      "needs_background": "light"
     },
     "output_type": "display_data"
    }
   ],
   "source": [
    "sb.boxplot(x=\"average_monthly_balance_prevQ2\",data=df)\n",
    "\n"
   ]
  },
  {
   "cell_type": "code",
   "execution_count": 28,
   "id": "bb594492",
   "metadata": {},
   "outputs": [
    {
     "name": "stderr",
     "output_type": "stream",
     "text": [
      "C:\\Users\\ItsMeVanquisher\\anaconda3\\lib\\site-packages\\pandas\\core\\indexing.py:1637: SettingWithCopyWarning: \n",
      "A value is trying to be set on a copy of a slice from a DataFrame\n",
      "\n",
      "See the caveats in the documentation: https://pandas.pydata.org/pandas-docs/stable/user_guide/indexing.html#returning-a-view-versus-a-copy\n",
      "  self._setitem_single_block(indexer, value, name)\n"
     ]
    }
   ],
   "source": [
    "df[\"average_monthly_balance_prevQ2\"].loc[df[\"average_monthly_balance_prevQ2\"]>600000]=df[\"average_monthly_balance_prevQ2\"].median()\n"
   ]
  },
  {
   "cell_type": "code",
   "execution_count": 29,
   "id": "bdf7a5ac",
   "metadata": {},
   "outputs": [],
   "source": [
    "from sklearn.preprocessing import LabelEncoder\n",
    "le=LabelEncoder()\n",
    "df[\"gender\"]=le.fit_transform(df[\"gender\"])\n",
    "df[\"occupation\"]=le.fit_transform(df[\"occupation\"])"
   ]
  },
  {
   "cell_type": "code",
   "execution_count": 30,
   "id": "65b39a04",
   "metadata": {},
   "outputs": [
    {
     "data": {
      "text/html": [
       "<div>\n",
       "<style scoped>\n",
       "    .dataframe tbody tr th:only-of-type {\n",
       "        vertical-align: middle;\n",
       "    }\n",
       "\n",
       "    .dataframe tbody tr th {\n",
       "        vertical-align: top;\n",
       "    }\n",
       "\n",
       "    .dataframe thead th {\n",
       "        text-align: right;\n",
       "    }\n",
       "</style>\n",
       "<table border=\"1\" class=\"dataframe\">\n",
       "  <thead>\n",
       "    <tr style=\"text-align: right;\">\n",
       "      <th></th>\n",
       "      <th>customer_id</th>\n",
       "      <th>vintage</th>\n",
       "      <th>age</th>\n",
       "      <th>gender</th>\n",
       "      <th>dependents</th>\n",
       "      <th>occupation</th>\n",
       "      <th>city</th>\n",
       "      <th>customer_nw_category</th>\n",
       "      <th>branch_code</th>\n",
       "      <th>days_since_last_transaction</th>\n",
       "      <th>...</th>\n",
       "      <th>previous_month_end_balance</th>\n",
       "      <th>average_monthly_balance_prevQ</th>\n",
       "      <th>average_monthly_balance_prevQ2</th>\n",
       "      <th>current_month_credit</th>\n",
       "      <th>previous_month_credit</th>\n",
       "      <th>current_month_debit</th>\n",
       "      <th>previous_month_debit</th>\n",
       "      <th>current_month_balance</th>\n",
       "      <th>previous_month_balance</th>\n",
       "      <th>churn</th>\n",
       "    </tr>\n",
       "  </thead>\n",
       "  <tbody>\n",
       "    <tr>\n",
       "      <th>0</th>\n",
       "      <td>1</td>\n",
       "      <td>3135</td>\n",
       "      <td>66</td>\n",
       "      <td>1</td>\n",
       "      <td>0.0</td>\n",
       "      <td>3</td>\n",
       "      <td>187.0</td>\n",
       "      <td>2</td>\n",
       "      <td>755</td>\n",
       "      <td>224.0</td>\n",
       "      <td>...</td>\n",
       "      <td>1458.71</td>\n",
       "      <td>1458.71</td>\n",
       "      <td>1449.07</td>\n",
       "      <td>0.20</td>\n",
       "      <td>0.20</td>\n",
       "      <td>0.20</td>\n",
       "      <td>0.20</td>\n",
       "      <td>1458.71</td>\n",
       "      <td>1458.71</td>\n",
       "      <td>0</td>\n",
       "    </tr>\n",
       "    <tr>\n",
       "      <th>1</th>\n",
       "      <td>2</td>\n",
       "      <td>310</td>\n",
       "      <td>35</td>\n",
       "      <td>1</td>\n",
       "      <td>0.0</td>\n",
       "      <td>3</td>\n",
       "      <td>834.0</td>\n",
       "      <td>2</td>\n",
       "      <td>3214</td>\n",
       "      <td>60.0</td>\n",
       "      <td>...</td>\n",
       "      <td>8704.66</td>\n",
       "      <td>7799.26</td>\n",
       "      <td>12419.41</td>\n",
       "      <td>0.56</td>\n",
       "      <td>0.56</td>\n",
       "      <td>5486.27</td>\n",
       "      <td>100.56</td>\n",
       "      <td>6496.78</td>\n",
       "      <td>8787.61</td>\n",
       "      <td>0</td>\n",
       "    </tr>\n",
       "    <tr>\n",
       "      <th>2</th>\n",
       "      <td>4</td>\n",
       "      <td>2356</td>\n",
       "      <td>31</td>\n",
       "      <td>1</td>\n",
       "      <td>0.0</td>\n",
       "      <td>2</td>\n",
       "      <td>146.0</td>\n",
       "      <td>2</td>\n",
       "      <td>41</td>\n",
       "      <td>30.0</td>\n",
       "      <td>...</td>\n",
       "      <td>5815.29</td>\n",
       "      <td>4910.17</td>\n",
       "      <td>2815.94</td>\n",
       "      <td>0.61</td>\n",
       "      <td>0.61</td>\n",
       "      <td>6046.73</td>\n",
       "      <td>259.23</td>\n",
       "      <td>5006.28</td>\n",
       "      <td>5070.14</td>\n",
       "      <td>0</td>\n",
       "    </tr>\n",
       "    <tr>\n",
       "      <th>3</th>\n",
       "      <td>5</td>\n",
       "      <td>478</td>\n",
       "      <td>90</td>\n",
       "      <td>1</td>\n",
       "      <td>0.0</td>\n",
       "      <td>3</td>\n",
       "      <td>1020.0</td>\n",
       "      <td>2</td>\n",
       "      <td>582</td>\n",
       "      <td>147.0</td>\n",
       "      <td>...</td>\n",
       "      <td>2291.91</td>\n",
       "      <td>2084.54</td>\n",
       "      <td>1006.54</td>\n",
       "      <td>0.47</td>\n",
       "      <td>0.47</td>\n",
       "      <td>0.47</td>\n",
       "      <td>2143.33</td>\n",
       "      <td>2291.91</td>\n",
       "      <td>1669.79</td>\n",
       "      <td>1</td>\n",
       "    </tr>\n",
       "    <tr>\n",
       "      <th>4</th>\n",
       "      <td>6</td>\n",
       "      <td>2531</td>\n",
       "      <td>42</td>\n",
       "      <td>1</td>\n",
       "      <td>2.0</td>\n",
       "      <td>3</td>\n",
       "      <td>1494.0</td>\n",
       "      <td>3</td>\n",
       "      <td>388</td>\n",
       "      <td>58.0</td>\n",
       "      <td>...</td>\n",
       "      <td>1401.72</td>\n",
       "      <td>1643.31</td>\n",
       "      <td>1871.12</td>\n",
       "      <td>0.33</td>\n",
       "      <td>714.61</td>\n",
       "      <td>588.62</td>\n",
       "      <td>1538.06</td>\n",
       "      <td>1157.15</td>\n",
       "      <td>1677.16</td>\n",
       "      <td>1</td>\n",
       "    </tr>\n",
       "  </tbody>\n",
       "</table>\n",
       "<p>5 rows × 21 columns</p>\n",
       "</div>"
      ],
      "text/plain": [
       "   customer_id  vintage  age  gender  dependents  occupation    city  \\\n",
       "0            1     3135   66       1         0.0           3   187.0   \n",
       "1            2      310   35       1         0.0           3   834.0   \n",
       "2            4     2356   31       1         0.0           2   146.0   \n",
       "3            5      478   90       1         0.0           3  1020.0   \n",
       "4            6     2531   42       1         2.0           3  1494.0   \n",
       "\n",
       "   customer_nw_category  branch_code  days_since_last_transaction  ...  \\\n",
       "0                     2          755                        224.0  ...   \n",
       "1                     2         3214                         60.0  ...   \n",
       "2                     2           41                         30.0  ...   \n",
       "3                     2          582                        147.0  ...   \n",
       "4                     3          388                         58.0  ...   \n",
       "\n",
       "   previous_month_end_balance  average_monthly_balance_prevQ  \\\n",
       "0                     1458.71                        1458.71   \n",
       "1                     8704.66                        7799.26   \n",
       "2                     5815.29                        4910.17   \n",
       "3                     2291.91                        2084.54   \n",
       "4                     1401.72                        1643.31   \n",
       "\n",
       "   average_monthly_balance_prevQ2  current_month_credit  \\\n",
       "0                         1449.07                  0.20   \n",
       "1                        12419.41                  0.56   \n",
       "2                         2815.94                  0.61   \n",
       "3                         1006.54                  0.47   \n",
       "4                         1871.12                  0.33   \n",
       "\n",
       "   previous_month_credit  current_month_debit  previous_month_debit  \\\n",
       "0                   0.20                 0.20                  0.20   \n",
       "1                   0.56              5486.27                100.56   \n",
       "2                   0.61              6046.73                259.23   \n",
       "3                   0.47                 0.47               2143.33   \n",
       "4                 714.61               588.62               1538.06   \n",
       "\n",
       "   current_month_balance  previous_month_balance  churn  \n",
       "0                1458.71                 1458.71      0  \n",
       "1                6496.78                 8787.61      0  \n",
       "2                5006.28                 5070.14      0  \n",
       "3                2291.91                 1669.79      1  \n",
       "4                1157.15                 1677.16      1  \n",
       "\n",
       "[5 rows x 21 columns]"
      ]
     },
     "execution_count": 30,
     "metadata": {},
     "output_type": "execute_result"
    }
   ],
   "source": [
    "df.head()"
   ]
  },
  {
   "cell_type": "code",
   "execution_count": 31,
   "id": "5cbc3d87",
   "metadata": {},
   "outputs": [],
   "source": [
    "x=df.drop(\"churn\",axis=1)\n",
    "y=df[\"churn\"]"
   ]
  },
  {
   "cell_type": "code",
   "execution_count": 32,
   "id": "6488a46c",
   "metadata": {},
   "outputs": [
    {
     "data": {
      "text/html": [
       "<div>\n",
       "<style scoped>\n",
       "    .dataframe tbody tr th:only-of-type {\n",
       "        vertical-align: middle;\n",
       "    }\n",
       "\n",
       "    .dataframe tbody tr th {\n",
       "        vertical-align: top;\n",
       "    }\n",
       "\n",
       "    .dataframe thead th {\n",
       "        text-align: right;\n",
       "    }\n",
       "</style>\n",
       "<table border=\"1\" class=\"dataframe\">\n",
       "  <thead>\n",
       "    <tr style=\"text-align: right;\">\n",
       "      <th></th>\n",
       "      <th>customer_id</th>\n",
       "      <th>vintage</th>\n",
       "      <th>age</th>\n",
       "      <th>gender</th>\n",
       "      <th>dependents</th>\n",
       "      <th>occupation</th>\n",
       "      <th>city</th>\n",
       "      <th>customer_nw_category</th>\n",
       "      <th>branch_code</th>\n",
       "      <th>days_since_last_transaction</th>\n",
       "      <th>current_balance</th>\n",
       "      <th>previous_month_end_balance</th>\n",
       "      <th>average_monthly_balance_prevQ</th>\n",
       "      <th>average_monthly_balance_prevQ2</th>\n",
       "      <th>current_month_credit</th>\n",
       "      <th>previous_month_credit</th>\n",
       "      <th>current_month_debit</th>\n",
       "      <th>previous_month_debit</th>\n",
       "      <th>current_month_balance</th>\n",
       "      <th>previous_month_balance</th>\n",
       "    </tr>\n",
       "  </thead>\n",
       "  <tbody>\n",
       "    <tr>\n",
       "      <th>0</th>\n",
       "      <td>1</td>\n",
       "      <td>3135</td>\n",
       "      <td>66</td>\n",
       "      <td>1</td>\n",
       "      <td>0.0</td>\n",
       "      <td>3</td>\n",
       "      <td>187.0</td>\n",
       "      <td>2</td>\n",
       "      <td>755</td>\n",
       "      <td>224.0</td>\n",
       "      <td>1458.71</td>\n",
       "      <td>1458.71</td>\n",
       "      <td>1458.71</td>\n",
       "      <td>1449.07</td>\n",
       "      <td>0.20</td>\n",
       "      <td>0.20</td>\n",
       "      <td>0.20</td>\n",
       "      <td>0.20</td>\n",
       "      <td>1458.71</td>\n",
       "      <td>1458.71</td>\n",
       "    </tr>\n",
       "    <tr>\n",
       "      <th>1</th>\n",
       "      <td>2</td>\n",
       "      <td>310</td>\n",
       "      <td>35</td>\n",
       "      <td>1</td>\n",
       "      <td>0.0</td>\n",
       "      <td>3</td>\n",
       "      <td>834.0</td>\n",
       "      <td>2</td>\n",
       "      <td>3214</td>\n",
       "      <td>60.0</td>\n",
       "      <td>5390.37</td>\n",
       "      <td>8704.66</td>\n",
       "      <td>7799.26</td>\n",
       "      <td>12419.41</td>\n",
       "      <td>0.56</td>\n",
       "      <td>0.56</td>\n",
       "      <td>5486.27</td>\n",
       "      <td>100.56</td>\n",
       "      <td>6496.78</td>\n",
       "      <td>8787.61</td>\n",
       "    </tr>\n",
       "    <tr>\n",
       "      <th>2</th>\n",
       "      <td>4</td>\n",
       "      <td>2356</td>\n",
       "      <td>31</td>\n",
       "      <td>1</td>\n",
       "      <td>0.0</td>\n",
       "      <td>2</td>\n",
       "      <td>146.0</td>\n",
       "      <td>2</td>\n",
       "      <td>41</td>\n",
       "      <td>30.0</td>\n",
       "      <td>3913.16</td>\n",
       "      <td>5815.29</td>\n",
       "      <td>4910.17</td>\n",
       "      <td>2815.94</td>\n",
       "      <td>0.61</td>\n",
       "      <td>0.61</td>\n",
       "      <td>6046.73</td>\n",
       "      <td>259.23</td>\n",
       "      <td>5006.28</td>\n",
       "      <td>5070.14</td>\n",
       "    </tr>\n",
       "    <tr>\n",
       "      <th>3</th>\n",
       "      <td>5</td>\n",
       "      <td>478</td>\n",
       "      <td>90</td>\n",
       "      <td>1</td>\n",
       "      <td>0.0</td>\n",
       "      <td>3</td>\n",
       "      <td>1020.0</td>\n",
       "      <td>2</td>\n",
       "      <td>582</td>\n",
       "      <td>147.0</td>\n",
       "      <td>2291.91</td>\n",
       "      <td>2291.91</td>\n",
       "      <td>2084.54</td>\n",
       "      <td>1006.54</td>\n",
       "      <td>0.47</td>\n",
       "      <td>0.47</td>\n",
       "      <td>0.47</td>\n",
       "      <td>2143.33</td>\n",
       "      <td>2291.91</td>\n",
       "      <td>1669.79</td>\n",
       "    </tr>\n",
       "    <tr>\n",
       "      <th>4</th>\n",
       "      <td>6</td>\n",
       "      <td>2531</td>\n",
       "      <td>42</td>\n",
       "      <td>1</td>\n",
       "      <td>2.0</td>\n",
       "      <td>3</td>\n",
       "      <td>1494.0</td>\n",
       "      <td>3</td>\n",
       "      <td>388</td>\n",
       "      <td>58.0</td>\n",
       "      <td>927.72</td>\n",
       "      <td>1401.72</td>\n",
       "      <td>1643.31</td>\n",
       "      <td>1871.12</td>\n",
       "      <td>0.33</td>\n",
       "      <td>714.61</td>\n",
       "      <td>588.62</td>\n",
       "      <td>1538.06</td>\n",
       "      <td>1157.15</td>\n",
       "      <td>1677.16</td>\n",
       "    </tr>\n",
       "  </tbody>\n",
       "</table>\n",
       "</div>"
      ],
      "text/plain": [
       "   customer_id  vintage  age  gender  dependents  occupation    city  \\\n",
       "0            1     3135   66       1         0.0           3   187.0   \n",
       "1            2      310   35       1         0.0           3   834.0   \n",
       "2            4     2356   31       1         0.0           2   146.0   \n",
       "3            5      478   90       1         0.0           3  1020.0   \n",
       "4            6     2531   42       1         2.0           3  1494.0   \n",
       "\n",
       "   customer_nw_category  branch_code  days_since_last_transaction  \\\n",
       "0                     2          755                        224.0   \n",
       "1                     2         3214                         60.0   \n",
       "2                     2           41                         30.0   \n",
       "3                     2          582                        147.0   \n",
       "4                     3          388                         58.0   \n",
       "\n",
       "   current_balance  previous_month_end_balance  average_monthly_balance_prevQ  \\\n",
       "0          1458.71                     1458.71                        1458.71   \n",
       "1          5390.37                     8704.66                        7799.26   \n",
       "2          3913.16                     5815.29                        4910.17   \n",
       "3          2291.91                     2291.91                        2084.54   \n",
       "4           927.72                     1401.72                        1643.31   \n",
       "\n",
       "   average_monthly_balance_prevQ2  current_month_credit  \\\n",
       "0                         1449.07                  0.20   \n",
       "1                        12419.41                  0.56   \n",
       "2                         2815.94                  0.61   \n",
       "3                         1006.54                  0.47   \n",
       "4                         1871.12                  0.33   \n",
       "\n",
       "   previous_month_credit  current_month_debit  previous_month_debit  \\\n",
       "0                   0.20                 0.20                  0.20   \n",
       "1                   0.56              5486.27                100.56   \n",
       "2                   0.61              6046.73                259.23   \n",
       "3                   0.47                 0.47               2143.33   \n",
       "4                 714.61               588.62               1538.06   \n",
       "\n",
       "   current_month_balance  previous_month_balance  \n",
       "0                1458.71                 1458.71  \n",
       "1                6496.78                 8787.61  \n",
       "2                5006.28                 5070.14  \n",
       "3                2291.91                 1669.79  \n",
       "4                1157.15                 1677.16  "
      ]
     },
     "execution_count": 32,
     "metadata": {},
     "output_type": "execute_result"
    }
   ],
   "source": [
    "x.head()"
   ]
  },
  {
   "cell_type": "code",
   "execution_count": 33,
   "id": "96c8751b",
   "metadata": {},
   "outputs": [
    {
     "data": {
      "text/plain": [
       "0    0\n",
       "1    0\n",
       "2    0\n",
       "3    1\n",
       "4    1\n",
       "Name: churn, dtype: int64"
      ]
     },
     "execution_count": 33,
     "metadata": {},
     "output_type": "execute_result"
    }
   ],
   "source": [
    "y.head()"
   ]
  },
  {
   "cell_type": "code",
   "execution_count": 34,
   "id": "78eccdbd",
   "metadata": {},
   "outputs": [],
   "source": [
    "from sklearn.preprocessing import MinMaxScaler\n",
    "mms=MinMaxScaler()\n",
    "\n",
    "scaled_x=mms.fit_transform(x)\n",
    "x=pd.DataFrame(scaled_x,columns=x.columns)"
   ]
  },
  {
   "cell_type": "code",
   "execution_count": 35,
   "id": "1ecfa1d4",
   "metadata": {},
   "outputs": [],
   "source": [
    "from sklearn.model_selection import train_test_split as tts\n",
    "train_x,test_x,train_y,test_y=tts(x,y,test_size=0.1,random_state=20)"
   ]
  },
  {
   "cell_type": "code",
   "execution_count": 36,
   "id": "ca83c0fc",
   "metadata": {},
   "outputs": [
    {
     "data": {
      "text/plain": [
       "(25543, 20)"
      ]
     },
     "execution_count": 36,
     "metadata": {},
     "output_type": "execute_result"
    }
   ],
   "source": [
    "\n",
    "train_x.shape"
   ]
  },
  {
   "cell_type": "code",
   "execution_count": 37,
   "id": "4c7c27b8",
   "metadata": {},
   "outputs": [
    {
     "data": {
      "text/plain": [
       "(2839, 20)"
      ]
     },
     "execution_count": 37,
     "metadata": {},
     "output_type": "execute_result"
    }
   ],
   "source": [
    "test_x.shape"
   ]
  },
  {
   "cell_type": "code",
   "execution_count": 38,
   "id": "c41dbc99",
   "metadata": {},
   "outputs": [
    {
     "name": "stdout",
     "output_type": "stream",
     "text": [
      "Test score= 80.55653399084186 %\n"
     ]
    },
    {
     "name": "stderr",
     "output_type": "stream",
     "text": [
      "C:\\Users\\ItsMeVanquisher\\anaconda3\\lib\\site-packages\\sklearn\\linear_model\\_logistic.py:763: ConvergenceWarning: lbfgs failed to converge (status=1):\n",
      "STOP: TOTAL NO. of ITERATIONS REACHED LIMIT.\n",
      "\n",
      "Increase the number of iterations (max_iter) or scale the data as shown in:\n",
      "    https://scikit-learn.org/stable/modules/preprocessing.html\n",
      "Please also refer to the documentation for alternative solver options:\n",
      "    https://scikit-learn.org/stable/modules/linear_model.html#logistic-regression\n",
      "  n_iter_i = _check_optimize_result(\n"
     ]
    }
   ],
   "source": [
    "from sklearn.linear_model import LogisticRegression\n",
    "lr=LogisticRegression()\n",
    "\n",
    "lr.fit(train_x,train_y)\n",
    "\n",
    "print(\"Test score=\",100*lr.score(test_x,test_y),\"%\")"
   ]
  },
  {
   "cell_type": "code",
   "execution_count": 39,
   "id": "0b66c32e",
   "metadata": {},
   "outputs": [],
   "source": [
    "score=[]\n",
    "from sklearn.neighbors import KNeighborsClassifier\n",
    "for i in range(1,20,2):\n",
    "    knc=KNeighborsClassifier(n_neighbors=i)\n",
    "    knc.fit(train_x,train_y)\n",
    "    score.append(knc.score(test_x,test_y))"
   ]
  },
  {
   "cell_type": "markdown",
   "id": "2ee4b868",
   "metadata": {},
   "source": [
    "\n",
    "plt.plot(range(1,20,2),score)"
   ]
  },
  {
   "cell_type": "code",
   "execution_count": 40,
   "id": "78adc1ec",
   "metadata": {},
   "outputs": [],
   "source": [
    "knc=KNeighborsClassifier(n_neighbors=11)\n",
    "knc.fit(train_x,train_y)\n",
    "score.append(knc.score(test_x,test_y))\n",
    "\n"
   ]
  },
  {
   "cell_type": "code",
   "execution_count": 41,
   "id": "0587747c",
   "metadata": {},
   "outputs": [
    {
     "name": "stdout",
     "output_type": "stream",
     "text": [
      "Test score= 80.55653399084186 %\n"
     ]
    },
    {
     "name": "stderr",
     "output_type": "stream",
     "text": [
      "C:\\Users\\ItsMeVanquisher\\anaconda3\\lib\\site-packages\\sklearn\\linear_model\\_logistic.py:763: ConvergenceWarning: lbfgs failed to converge (status=1):\n",
      "STOP: TOTAL NO. of ITERATIONS REACHED LIMIT.\n",
      "\n",
      "Increase the number of iterations (max_iter) or scale the data as shown in:\n",
      "    https://scikit-learn.org/stable/modules/preprocessing.html\n",
      "Please also refer to the documentation for alternative solver options:\n",
      "    https://scikit-learn.org/stable/modules/linear_model.html#logistic-regression\n",
      "  n_iter_i = _check_optimize_result(\n"
     ]
    }
   ],
   "source": [
    "from sklearn.linear_model import LogisticRegression\n",
    "lr=LogisticRegression()\n",
    "\n",
    "lr.fit(train_x,train_y)\n",
    "\n",
    "print(\"Test score=\",100*lr.score(test_x,test_y),\"%\")"
   ]
  },
  {
   "cell_type": "code",
   "execution_count": 42,
   "id": "a384b8ce",
   "metadata": {},
   "outputs": [
    {
     "name": "stderr",
     "output_type": "stream",
     "text": [
      "C:\\Users\\ItsMeVanquisher\\anaconda3\\lib\\site-packages\\pandas\\core\\indexing.py:1637: SettingWithCopyWarning: \n",
      "A value is trying to be set on a copy of a slice from a DataFrame\n",
      "\n",
      "See the caveats in the documentation: https://pandas.pydata.org/pandas-docs/stable/user_guide/indexing.html#returning-a-view-versus-a-copy\n",
      "  self._setitem_single_block(indexer, value, name)\n"
     ]
    }
   ],
   "source": [
    "df[\"current_month_balance\"].loc[df[\"current_month_balance\"]>350000]=df[\"current_month_balance\"].median()\n"
   ]
  },
  {
   "cell_type": "code",
   "execution_count": 43,
   "id": "b8172bd4",
   "metadata": {},
   "outputs": [
    {
     "data": {
      "text/plain": [
       "<AxesSubplot:xlabel='current_month_credit'>"
      ]
     },
     "execution_count": 43,
     "metadata": {},
     "output_type": "execute_result"
    },
    {
     "data": {
      "image/png": "[encoded data removed]",
      "text/plain": [
       "<Figure size 432x288 with 1 Axes>"
      ]
     },
     "metadata": {
      "needs_background": "light"
     },
     "output_type": "display_data"
    }
   ],
   "source": [
    "sb.boxplot(x=\"current_month_credit\",data=df)"
   ]
  },
  {
   "cell_type": "code",
   "execution_count": 44,
   "id": "5bcf8d88",
   "metadata": {},
   "outputs": [
    {
     "name": "stdout",
     "output_type": "stream",
     "text": [
      "Test score= 80.55653399084186 %\n"
     ]
    },
    {
     "name": "stderr",
     "output_type": "stream",
     "text": [
      "C:\\Users\\ItsMeVanquisher\\anaconda3\\lib\\site-packages\\sklearn\\linear_model\\_logistic.py:763: ConvergenceWarning: lbfgs failed to converge (status=1):\n",
      "STOP: TOTAL NO. of ITERATIONS REACHED LIMIT.\n",
      "\n",
      "Increase the number of iterations (max_iter) or scale the data as shown in:\n",
      "    https://scikit-learn.org/stable/modules/preprocessing.html\n",
      "Please also refer to the documentation for alternative solver options:\n",
      "    https://scikit-learn.org/stable/modules/linear_model.html#logistic-regression\n",
      "  n_iter_i = _check_optimize_result(\n"
     ]
    }
   ],
   "source": [
    "from sklearn.linear_model import LogisticRegression\n",
    "lr=LogisticRegression()\n",
    "\n",
    "lr.fit(train_x,train_y)\n",
    "\n",
    "print(\"Test score=\",100*lr.score(test_x,test_y),\"%\")"
   ]
  },
  {
   "cell_type": "code",
   "execution_count": 45,
   "id": "730ab397",
   "metadata": {},
   "outputs": [
    {
     "name": "stderr",
     "output_type": "stream",
     "text": [
      "C:\\Users\\ItsMeVanquisher\\anaconda3\\lib\\site-packages\\pandas\\core\\indexing.py:1637: SettingWithCopyWarning: \n",
      "A value is trying to be set on a copy of a slice from a DataFrame\n",
      "\n",
      "See the caveats in the documentation: https://pandas.pydata.org/pandas-docs/stable/user_guide/indexing.html#returning-a-view-versus-a-copy\n",
      "  self._setitem_single_block(indexer, value, name)\n"
     ]
    }
   ],
   "source": [
    "df[\"current_month_debit\"].loc[df[\"current_month_debit\"]>100000]=df[\"current_month_debit\"].median()\n"
   ]
  },
  {
   "cell_type": "code",
   "execution_count": 46,
   "id": "a25c451f",
   "metadata": {},
   "outputs": [
    {
     "data": {
      "text/plain": [
       "<AxesSubplot:xlabel='current_month_debit'>"
      ]
     },
     "execution_count": 46,
     "metadata": {},
     "output_type": "execute_result"
    },
    {
     "data": {
      "image/png": "[encoded data removed]",
      "text/plain": [
       "<Figure size 432x288 with 1 Axes>"
      ]
     },
     "metadata": {
      "needs_background": "light"
     },
     "output_type": "display_data"
    }
   ],
   "source": [
    "sb.boxplot(x=\"current_month_debit\",data=df)"
   ]
  },
  {
   "cell_type": "code",
   "execution_count": 47,
   "id": "96c1500e",
   "metadata": {},
   "outputs": [],
   "source": [
    "knc=KNeighborsClassifier(n_neighbors=11)\n",
    "\n",
    "knc.fit(train_x,train_y)\n",
    "\n",
    "score.append(knc.score(test_x,test_y))\n",
    "\n"
   ]
  },
  {
   "cell_type": "code",
   "execution_count": 48,
   "id": "bdb80205",
   "metadata": {},
   "outputs": [
    {
     "data": {
      "text/plain": [
       "0.7992250792532581"
      ]
     },
     "execution_count": 48,
     "metadata": {},
     "output_type": "execute_result"
    }
   ],
   "source": [
    "knc=KNeighborsClassifier(n_neighbors=11)\n",
    "\n",
    "knc.fit(train_x,train_y)\n",
    "\n",
    "knc.score(test_x,test_y)\n",
    "\n",
    "\n",
    "\n",
    "\n"
   ]
  },
  {
   "cell_type": "code",
   "execution_count": 49,
   "id": "402aa6eb",
   "metadata": {},
   "outputs": [],
   "source": [
    "import numpy as np\n",
    "from sklearn.model_selection import KFold\n",
    "def kfoldpred(model):\n",
    "    kfold=KFold(5)\n",
    "    scores=[]\n",
    "    for i,j in kfold.split(train_x,train_y):\n",
    "        x_train,x_test=train_x.iloc[i],train_x.iloc[j]\n",
    "        y_train,y_test=train_y.iloc[i],train_y.iloc[j]\n",
    "        model.fit(x_train,y_train)\n",
    "        scores.append(model.score(x_test,y_test))\n",
    "        \n",
    "        return np.mean(scores)\n",
    "    \n",
    "    "
   ]
  },
  {
   "cell_type": "code",
   "execution_count": 50,
   "id": "19f51dbf",
   "metadata": {},
   "outputs": [
    {
     "data": {
      "text/plain": [
       "<AxesSubplot:xlabel='days_since_last_transaction'>"
      ]
     },
     "execution_count": 50,
     "metadata": {},
     "output_type": "execute_result"
    },
    {
     "data": {
      "image/png": "[encoded data removed]",
      "text/plain": [
       "<Figure size 432x288 with 1 Axes>"
      ]
     },
     "metadata": {
      "needs_background": "light"
     },
     "output_type": "display_data"
    }
   ],
   "source": [
    "sb.boxplot(x=\"days_since_last_transaction\",data=df)"
   ]
  },
  {
   "cell_type": "code",
   "execution_count": 51,
   "id": "2edb721e",
   "metadata": {},
   "outputs": [
    {
     "name": "stderr",
     "output_type": "stream",
     "text": [
      "C:\\Users\\ItsMeVanquisher\\anaconda3\\lib\\site-packages\\pandas\\core\\indexing.py:1637: SettingWithCopyWarning: \n",
      "A value is trying to be set on a copy of a slice from a DataFrame\n",
      "\n",
      "See the caveats in the documentation: https://pandas.pydata.org/pandas-docs/stable/user_guide/indexing.html#returning-a-view-versus-a-copy\n",
      "  self._setitem_single_block(indexer, value, name)\n"
     ]
    }
   ],
   "source": [
    "df[\"days_since_last_transaction\"].loc[df[\"days_since_last_transaction\"]>175]=df[\"days_since_last_transaction\"].median()\n"
   ]
  },
  {
   "cell_type": "code",
   "execution_count": 52,
   "id": "930793b9",
   "metadata": {},
   "outputs": [
    {
     "data": {
      "text/plain": [
       "<AxesSubplot:xlabel='days_since_last_transaction'>"
      ]
     },
     "execution_count": 52,
     "metadata": {},
     "output_type": "execute_result"
    },
    {
     "data": {
      "image/png": "[encoded data removed]",
      "text/plain": [
       "<Figure size 432x288 with 1 Axes>"
      ]
     },
     "metadata": {
      "needs_background": "light"
     },
     "output_type": "display_data"
    }
   ],
   "source": [
    "sb.boxplot(x=\"days_since_last_transaction\",data=df)"
   ]
  },
  {
   "cell_type": "code",
   "execution_count": 53,
   "id": "e4bd1c0d",
   "metadata": {},
   "outputs": [
    {
     "data": {
      "text/plain": [
       "<AxesSubplot:xlabel='previous_month_balance'>"
      ]
     },
     "execution_count": 53,
     "metadata": {},
     "output_type": "execute_result"
    },
    {
     "data": {
      "image/png": "[encoded data removed]",
      "text/plain": [
       "<Figure size 432x288 with 1 Axes>"
      ]
     },
     "metadata": {
      "needs_background": "light"
     },
     "output_type": "display_data"
    }
   ],
   "source": [
    "sb.boxplot(x=\"previous_month_balance\",data=df)"
   ]
  },
  {
   "cell_type": "code",
   "execution_count": 54,
   "id": "50af5bfa",
   "metadata": {},
   "outputs": [
    {
     "name": "stderr",
     "output_type": "stream",
     "text": [
      "C:\\Users\\ItsMeVanquisher\\anaconda3\\lib\\site-packages\\pandas\\core\\indexing.py:1637: SettingWithCopyWarning: \n",
      "A value is trying to be set on a copy of a slice from a DataFrame\n",
      "\n",
      "See the caveats in the documentation: https://pandas.pydata.org/pandas-docs/stable/user_guide/indexing.html#returning-a-view-versus-a-copy\n",
      "  self._setitem_single_block(indexer, value, name)\n"
     ]
    }
   ],
   "source": [
    "df[\"previous_month_balance\"].loc[df[\"previous_month_balance\"]>200000]=df[\"previous_month_balance\"].median()\n"
   ]
  },
  {
   "cell_type": "code",
   "execution_count": 55,
   "id": "547f36d6",
   "metadata": {},
   "outputs": [
    {
     "name": "stderr",
     "output_type": "stream",
     "text": [
      "C:\\Users\\ItsMeVanquisher\\anaconda3\\lib\\site-packages\\pandas\\core\\indexing.py:1637: SettingWithCopyWarning: \n",
      "A value is trying to be set on a copy of a slice from a DataFrame\n",
      "\n",
      "See the caveats in the documentation: https://pandas.pydata.org/pandas-docs/stable/user_guide/indexing.html#returning-a-view-versus-a-copy\n",
      "  self._setitem_single_block(indexer, value, name)\n"
     ]
    }
   ],
   "source": [
    "df[\"current_month_balance\"].loc[df[\"current_month_balance\"]>200000]=df[\"current_month_balance\"].median()\n"
   ]
  },
  {
   "cell_type": "code",
   "execution_count": 56,
   "id": "f453c113",
   "metadata": {},
   "outputs": [
    {
     "data": {
      "text/plain": [
       "<AxesSubplot:xlabel='previous_month_balance'>"
      ]
     },
     "execution_count": 56,
     "metadata": {},
     "output_type": "execute_result"
    },
    {
     "data": {
      "image/png": "[encoded data removed]",
      "text/plain": [
       "<Figure size 432x288 with 1 Axes>"
      ]
     },
     "metadata": {
      "needs_background": "light"
     },
     "output_type": "display_data"
    }
   ],
   "source": [
    "sb.boxplot(x=\"previous_month_balance\",data=df)"
   ]
  },
  {
   "cell_type": "code",
   "execution_count": 57,
   "id": "f0910084",
   "metadata": {},
   "outputs": [
    {
     "data": {
      "text/plain": [
       "<AxesSubplot:xlabel='current_month_balance'>"
      ]
     },
     "execution_count": 57,
     "metadata": {},
     "output_type": "execute_result"
    },
    {
     "data": {
      "image/png": "[encoded data removed]",
      "text/plain": [
       "<Figure size 432x288 with 1 Axes>"
      ]
     },
     "metadata": {
      "needs_background": "light"
     },
     "output_type": "display_data"
    }
   ],
   "source": [
    "sb.boxplot(x=\"current_month_balance\",data=df)\n"
   ]
  },
  {
   "cell_type": "markdown",
   "id": "1612628b",
   "metadata": {},
   "source": [
    "# Decision Tree Classifier\n"
   ]
  },
  {
   "cell_type": "code",
   "execution_count": 58,
   "id": "eab630ef",
   "metadata": {},
   "outputs": [],
   "source": [
    "from sklearn.tree import DecisionTreeClassifier\n",
    "dt=DecisionTreeClassifier(max_depth=7,max_leaf_nodes=50)\n",
    "                         \n",
    "    \n",
    "\n",
    "kfoldpred(dt)\n",
    "\n",
    "pred_dt=dt.predict(test_x)\n",
    "pred_dt=pd.DataFrame(pred_dt,columns=[\"pred\"])\n",
    "\n"
   ]
  },
  {
   "cell_type": "code",
   "execution_count": 59,
   "id": "203d59bc",
   "metadata": {},
   "outputs": [
    {
     "data": {
      "text/plain": [
       "0.8524128214159915"
      ]
     },
     "execution_count": 59,
     "metadata": {},
     "output_type": "execute_result"
    }
   ],
   "source": [
    "dt.score(test_x,test_y)\n",
    "\n",
    "\n"
   ]
  },
  {
   "cell_type": "markdown",
   "id": "c536b8f4",
   "metadata": {},
   "source": [
    "# Random Forest Classifier\n",
    "\n",
    "\n",
    "\n"
   ]
  },
  {
   "cell_type": "code",
   "execution_count": 60,
   "id": "20a7f0f8",
   "metadata": {},
   "outputs": [],
   "source": [
    "from sklearn.ensemble import RandomForestClassifier\n",
    "rf=RandomForestClassifier()\n",
    "\n",
    "\n",
    "kfoldpred(rf)\n",
    "\n",
    "pred_rf=rf.predict(test_x)\n",
    "pred_rf=pd.DataFrame(pred_rf,columns=[\"pred\"])\n",
    "\n"
   ]
  },
  {
   "cell_type": "code",
   "execution_count": 61,
   "id": "5f7bc481",
   "metadata": {},
   "outputs": [
    {
     "data": {
      "text/plain": [
       "0.8576963719619585"
      ]
     },
     "execution_count": 61,
     "metadata": {},
     "output_type": "execute_result"
    }
   ],
   "source": [
    "rf.score(test_x,test_y)"
   ]
  },
  {
   "cell_type": "markdown",
   "id": "f13b3998",
   "metadata": {},
   "source": [
    "# XGBM Classifier\n"
   ]
  },
  {
   "cell_type": "code",
   "execution_count": 62,
   "id": "c6f2e9cc",
   "metadata": {},
   "outputs": [
    {
     "name": "stdout",
     "output_type": "stream",
     "text": [
      "Requirement already satisfied: xgboost in c:\\users\\itsmevanquisher\\anaconda3\\lib\\site-packages (1.4.2)\n",
      "Requirement already satisfied: scipy in c:\\users\\itsmevanquisher\\anaconda3\\lib\\site-packages (from xgboost) (1.6.2)\n",
      "Requirement already satisfied: numpy in c:\\users\\itsmevanquisher\\anaconda3\\lib\\site-packages (from xgboost) (1.19.5)\n"
     ]
    }
   ],
   "source": [
    "!pip install xgboost"
   ]
  },
  {
   "cell_type": "code",
   "execution_count": 63,
   "id": "0425ff94",
   "metadata": {},
   "outputs": [
    {
     "name": "stderr",
     "output_type": "stream",
     "text": [
      "C:\\Users\\ItsMeVanquisher\\anaconda3\\lib\\site-packages\\xgboost\\sklearn.py:1146: UserWarning: The use of label encoder in XGBClassifier is deprecated and will be removed in a future release. To remove this warning, do the following: 1) Pass option use_label_encoder=False when constructing XGBClassifier object; and 2) Encode your labels (y) as integers starting with 0, i.e. 0, 1, 2, ..., [num_class - 1].\n",
      "  warnings.warn(label_encoder_deprecation_msg, UserWarning)\n"
     ]
    },
    {
     "name": "stdout",
     "output_type": "stream",
     "text": [
      "[13:11:28] WARNING: C:/Users/Administrator/workspace/xgboost-win64_release_1.4.0/src/learner.cc:1095: Starting in XGBoost 1.3.0, the default evaluation metric used with the objective 'binary:logistic' was changed from 'error' to 'logloss'. Explicitly set eval_metric if you'd like to restore the old behavior.\n"
     ]
    }
   ],
   "source": [
    "from xgboost import XGBClassifier\n",
    "xg=XGBClassifier()\n",
    "\n",
    "kfoldpred(xg)\n",
    "\n",
    "\n",
    "pred_xg=xg.predict(test_x)\n",
    "pred_xg=pd.DataFrame(pred_xg,columns=[\"pred\"])"
   ]
  },
  {
   "cell_type": "code",
   "execution_count": 64,
   "id": "e1dbfc40",
   "metadata": {},
   "outputs": [
    {
     "data": {
      "text/plain": [
       "0.8562874251497006"
      ]
     },
     "execution_count": 64,
     "metadata": {},
     "output_type": "execute_result"
    }
   ],
   "source": [
    "xg.score(test_x,test_y)"
   ]
  },
  {
   "cell_type": "markdown",
   "id": "b1a28266",
   "metadata": {},
   "source": [
    "# Ensembling the models"
   ]
  },
  {
   "cell_type": "code",
   "execution_count": 65,
   "id": "06e41696",
   "metadata": {},
   "outputs": [],
   "source": [
    "from statistics import mode\n",
    "ensembled_pred=[]\n",
    "for i in range (0,len(test_x)):\n",
    "    ensembled_pred.append(mode([pred_dt[\"pred\"][i], pred_rf[\"pred\"][i],pred_xg[\"pred\"][i]]))\n"
   ]
  },
  {
   "cell_type": "code",
   "execution_count": 66,
   "id": "46d2d15f",
   "metadata": {},
   "outputs": [],
   "source": [
    "from sklearn.metrics import accuracy_score"
   ]
  },
  {
   "cell_type": "code",
   "execution_count": 67,
   "id": "e301be13",
   "metadata": {},
   "outputs": [
    {
     "data": {
      "text/plain": [
       "0.861218738992603"
      ]
     },
     "execution_count": 67,
     "metadata": {},
     "output_type": "execute_result"
    }
   ],
   "source": [
    "accuracy_score(ensembled_pred,test_y)"
   ]
  },
  {
   "cell_type": "markdown",
   "id": "7256a1f8",
   "metadata": {},
   "source": [
    "# CNN Model"
   ]
  },
  {
   "cell_type": "code",
   "execution_count": 68,
   "id": "926771ba",
   "metadata": {},
   "outputs": [
    {
     "ename": "ModuleNotFoundError",
     "evalue": "No module named 'tensorflow'",
     "output_type": "error",
     "traceback": [
      "\u001b[1;31m---------------------------------------------------------------------------\u001b[0m",
      "\u001b[1;31mModuleNotFoundError\u001b[0m                       Traceback (most recent call last)",
      "\u001b[1;32m<ipython-input-68-dc0050fe79eb>\u001b[0m in \u001b[0;36m<module>\u001b[1;34m\u001b[0m\n\u001b[1;32m----> 1\u001b[1;33m \u001b[1;32mimport\u001b[0m \u001b[0mtensorflow\u001b[0m \u001b[1;32mas\u001b[0m \u001b[0mtf\u001b[0m\u001b[1;33m\u001b[0m\u001b[1;33m\u001b[0m\u001b[0m\n\u001b[0m\u001b[0;32m      2\u001b[0m \u001b[1;32mfrom\u001b[0m \u001b[0mtensorflow\u001b[0m\u001b[1;33m.\u001b[0m\u001b[0mkeras\u001b[0m\u001b[1;33m.\u001b[0m\u001b[0mmodels\u001b[0m \u001b[1;32mimport\u001b[0m \u001b[0mSequential\u001b[0m\u001b[1;33m\u001b[0m\u001b[1;33m\u001b[0m\u001b[0m\n\u001b[0;32m      3\u001b[0m \u001b[1;32mfrom\u001b[0m \u001b[0mtensorflow\u001b[0m\u001b[1;33m.\u001b[0m\u001b[0mkeras\u001b[0m\u001b[1;33m.\u001b[0m\u001b[0mlayers\u001b[0m \u001b[1;32mimport\u001b[0m \u001b[0mDense\u001b[0m\u001b[1;33m,\u001b[0m\u001b[0mDropout\u001b[0m\u001b[1;33m,\u001b[0m\u001b[0mActivation\u001b[0m\u001b[1;33m\u001b[0m\u001b[1;33m\u001b[0m\u001b[0m\n\u001b[0;32m      4\u001b[0m \u001b[1;32mfrom\u001b[0m \u001b[0mtensorflow\u001b[0m\u001b[1;33m.\u001b[0m\u001b[0mkeras\u001b[0m\u001b[1;33m.\u001b[0m\u001b[0moptimizers\u001b[0m \u001b[1;32mimport\u001b[0m \u001b[0mAdam\u001b[0m\u001b[1;33m\u001b[0m\u001b[1;33m\u001b[0m\u001b[0m\n",
      "\u001b[1;31mModuleNotFoundError\u001b[0m: No module named 'tensorflow'"
     ]
    }
   ],
   "source": [
    "import tensorflow as tf\n",
    "from tensorflow.keras.models import Sequential\n",
    "from tensorflow.keras.layers import Dense,Dropout,Activation\n",
    "from tensorflow.keras.optimizers import Adam"
   ]
  },
  {
   "cell_type": "code",
   "execution_count": null,
   "id": "7ec0c90a",
   "metadata": {},
   "outputs": [],
   "source": [
    "\n"
   ]
  }
 ],
 "metadata": {
  "kernelspec": {
   "display_name": "Python 3",
   "language": "python",
   "name": "python3"
  },
  "language_info": {
   "codemirror_mode": {
    "name": "ipython",
    "version": 3
   },
   "file_extension": ".py",
   "mimetype": "text/x-python",
   "name": "python",
   "nbconvert_exporter": "python",
   "pygments_lexer": "ipython3",
   "version": "3.8.8"
  }
 },
 "nbformat": 4,
 "nbformat_minor": 5
}
